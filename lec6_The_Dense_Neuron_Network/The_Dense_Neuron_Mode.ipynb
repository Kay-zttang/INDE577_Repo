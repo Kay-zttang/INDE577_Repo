## **Implemention of The Gradient Descent**

---

### **- Palmer Penguins Dataset**

#### **bill_length_mm VS bill_depth_mm**
Using "bill_length_mm" and "bill_depth_mm" of species "Gentoo" in Palmer Penguins Dataset to find the linear regression model.
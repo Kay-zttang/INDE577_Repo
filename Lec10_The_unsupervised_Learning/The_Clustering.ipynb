{
 "cells": [
  {
   "cell_type": "markdown",
   "metadata": {},
   "source": [
    "## **Implemention of The clustering**\n",
    "\n",
    "---\n",
    "### Fruit Dataset\n"
   ]
  },
  {
   "cell_type": "code",
   "execution_count": null,
   "metadata": {},
   "outputs": [],
   "source": []
  }
 ],
 "metadata": {
  "kernelspec": {
   "display_name": "Python 3.9.13 ('base')",
   "language": "python",
   "name": "python3"
  },
  "language_info": {
   "name": "python",
   "version": "3.9.13"
  },
  "orig_nbformat": 4,
  "vscode": {
   "interpreter": {
    "hash": "4d8e6b346280e9ceaf130dc9449318b1271e5572b59b020452e7207365ad7aa4"
   }
  }
 },
 "nbformat": 4,
 "nbformat_minor": 2
}

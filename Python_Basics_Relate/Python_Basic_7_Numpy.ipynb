{
 "cells": [
  {
   "cell_type": "markdown",
   "id": "3277f851",
   "metadata": {},
   "source": [
    "## Numpy \n",
    "Note:\n",
    "- Provide a __multidimentional array object__ / various derived objects / __fast operations__ on arrays.\n",
    "- fixed size; elements of same data type"
   ]
  },
  {
   "cell_type": "markdown",
   "id": "9e4371b3",
   "metadata": {},
   "source": [
    "### Basic Numpy: ndarray"
   ]
  },
  {
   "cell_type": "code",
   "execution_count": 1,
   "id": "0bfb781f",
   "metadata": {},
   "outputs": [
    {
     "name": "stdout",
     "output_type": "stream",
     "text": [
      "a = array([1., 2., 3.])\n",
      "The type of a is: type(a) = <class 'numpy.ndarray'>\n"
     ]
    }
   ],
   "source": [
    "import numpy as np\n",
    "\n",
    "a = np.array([1.0, 2.0, 3.0])\n",
    "print(f\"{a = }\")\n",
    "print(f\"The type of a is: {type(a) = }\")"
   ]
  },
  {
   "cell_type": "markdown",
   "id": "7b7eba85",
   "metadata": {},
   "source": [
    "#### Attributes: \n",
    "- shape\n",
    "- dtype"
   ]
  },
  {
   "cell_type": "code",
   "execution_count": 2,
   "id": "b56f6829",
   "metadata": {},
   "outputs": [
    {
     "name": "stdout",
     "output_type": "stream",
     "text": [
      "a = array([1., 2., 3.])\n",
      "The shape of a is: a.shape = (3,)\n",
      "The types in a are: a.dtype = dtype('float64') \n",
      "\n",
      "b = array([1, 2, 3, 4, 5])\n",
      "The shape of b is: b.shape = (5,)\n",
      "The types in b are: b.dtype = dtype('int32')\n"
     ]
    }
   ],
   "source": [
    "a = np.array([1.0, 2.0, 3.0])\n",
    "print(f\"{a = }\")\n",
    "print(f\"The shape of a is: {a.shape = }\")\n",
    "print(f\"The types in a are: {a.dtype = } \\n\")\n",
    "\n",
    "b = np.array([1, 2, 3, 4, 5])\n",
    "print(f\"{b = }\")\n",
    "print(f\"The shape of b is: {b.shape = }\")\n",
    "print(f\"The types in b are: {b.dtype = }\")"
   ]
  },
  {
   "cell_type": "markdown",
   "id": "472f0b45",
   "metadata": {},
   "source": [
    "#### Methods: \n",
    "- mean\n",
    "- max / argmax\n",
    "- min / argmin"
   ]
  },
  {
   "cell_type": "code",
   "execution_count": 3,
   "id": "290e1a7c",
   "metadata": {},
   "outputs": [
    {
     "name": "stdout",
     "output_type": "stream",
     "text": [
      "a = array([10.  ,  4.  , -3.5 ,  9.75, 20.1 ,  7.  ])\n",
      "The mean of values in a: a.mean() = 7.891666666666667\n",
      "The maximum of values in a: a.max() = 20.1\n",
      "The argmax of values in a: a.argmax() = 4\n",
      "The minimum of values in a: a.min() = -3.5\n",
      "The argmin of values in a: a.argmin() = 2\n"
     ]
    }
   ],
   "source": [
    "a = np.array([10.0, 4.0, -3.5, 9.75, 20.1, 7.0])\n",
    "\n",
    "print(f\"{a = }\")\n",
    "print(f\"The mean of values in a: {a.mean() = }\")\n",
    "print(f\"The maximum of values in a: {a.max() = }\")\n",
    "print(f\"The argmax of values in a: {a.argmax() = }\")\n",
    "print(f\"The minimum of values in a: {a.min() = }\")\n",
    "print(f\"The argmin of values in a: {a.argmin() = }\")"
   ]
  },
  {
   "cell_type": "code",
   "execution_count": 4,
   "id": "6c3e296e",
   "metadata": {},
   "outputs": [
    {
     "data": {
      "text/plain": [
       "20.1"
      ]
     },
     "execution_count": 4,
     "metadata": {},
     "output_type": "execute_result"
    }
   ],
   "source": [
    "max(a)"
   ]
  },
  {
   "cell_type": "markdown",
   "id": "1a652923",
   "metadata": {},
   "source": [
    "#### Scalar Multiplication and Arithmetic Operators"
   ]
  },
  {
   "cell_type": "code",
   "execution_count": 5,
   "id": "bed952dd",
   "metadata": {},
   "outputs": [
    {
     "name": "stdout",
     "output_type": "stream",
     "text": [
      "a = array([1., 2., 3.])\n",
      "b = array([4, 5, 6])\n",
      "3*a = array([3., 6., 9.])\n",
      "a + b = array([5., 7., 9.])\n",
      "a - 2*b = array([-7., -8., -9.])\n"
     ]
    }
   ],
   "source": [
    "a = np.array([1.0, 2.0, 3.0])\n",
    "b = np.array([4, 5, 6])\n",
    "\n",
    "print(f\"{a = }\")\n",
    "print(f\"{b = }\")\n",
    "\n",
    "print(f\"{3*a = }\")\n",
    "print(f\"{a + b = }\")\n",
    "print(f\"{a - 2*b = }\")"
   ]
  },
  {
   "cell_type": "markdown",
   "id": "a4fe55ef",
   "metadata": {},
   "source": [
    "Dot product: np.dot() method / @ operator"
   ]
  },
  {
   "cell_type": "code",
   "execution_count": 6,
   "id": "c582dd10",
   "metadata": {},
   "outputs": [
    {
     "name": "stdout",
     "output_type": "stream",
     "text": [
      "a = array([1., 2., 3.])\n",
      "b = array([4, 5, 6])\n",
      "np.dot(a, b) = 32.0\n",
      "a @ b = 32.0\n"
     ]
    }
   ],
   "source": [
    "a = np.array([1.0, 2.0, 3.0])\n",
    "b = np.array([4, 5, 6])\n",
    "\n",
    "print(f\"{a = }\")\n",
    "print(f\"{b = }\")\n",
    "\n",
    "print(f\"{np.dot(a, b) = }\")\n",
    "print(f\"{a @ b = }\")"
   ]
  },
  {
   "cell_type": "markdown",
   "id": "769cc06b",
   "metadata": {},
   "source": [
    "#### Column and Row Vector Representations"
   ]
  },
  {
   "cell_type": "code",
   "execution_count": 7,
   "id": "6043f6d0",
   "metadata": {},
   "outputs": [
    {
     "name": "stdout",
     "output_type": "stream",
     "text": [
      "a = array([1., 2., 3.])\n",
      "The old shape of a is: a.shape = (3,)\n",
      "The new shape of a is: a.shape = (3, 1)\n",
      "a = array([[1.],\n",
      "       [2.],\n",
      "       [3.]])\n"
     ]
    }
   ],
   "source": [
    "a = np.array([1.0, 2.0, 3.0])\n",
    "print(f\"{a = }\")\n",
    "print(f\"The old shape of a is: {a.shape = }\")\n",
    "\n",
    "a.shape = (3, 1)\n",
    "print(f\"The new shape of a is: {a.shape = }\")\n",
    "print(f\"{a = }\")"
   ]
  },
  {
   "cell_type": "code",
   "execution_count": 8,
   "id": "205beebd",
   "metadata": {},
   "outputs": [
    {
     "name": "stdout",
     "output_type": "stream",
     "text": [
      "a = array([1., 2., 3.])\n",
      "The old shape of a is: a.shape = (3,) \n",
      "\n",
      "The new shape of a is: a.shape = (1, 3)\n",
      "a = array([[1., 2., 3.]])\n"
     ]
    }
   ],
   "source": [
    "a = np.array([1.0, 2.0, 3.0])\n",
    "print(f\"{a = }\")\n",
    "print(f\"The old shape of a is: {a.shape = } \\n\")\n",
    "\n",
    "a.shape = (1, 3)\n",
    "print(f\"The new shape of a is: {a.shape = }\")\n",
    "print(f\"{a = }\")"
   ]
  },
  {
   "cell_type": "markdown",
   "id": "002bc239",
   "metadata": {},
   "source": [
    "#### Matrices"
   ]
  },
  {
   "cell_type": "code",
   "execution_count": 9,
   "id": "bf00a37c",
   "metadata": {},
   "outputs": [
    {
     "name": "stdout",
     "output_type": "stream",
     "text": [
      "The shape of A is: A.shape = (2, 3)\n",
      "A = array([[1., 2., 3.],\n",
      "       [4., 5., 6.]]) \n",
      "\n",
      "Row 0: A[0, :] = array([1., 2., 3.])\n",
      "Row 1: A[1, :] = array([4., 5., 6.]) \n",
      "\n",
      "Column 0: A[:, 0] = array([1., 4.])\n",
      "Column 1: A[:, 1] = array([2., 5.]) \n",
      "\n",
      "Element at row index 0 and column index 2: A[0, 2] = 3.0\n"
     ]
    }
   ],
   "source": [
    "A = np.array([[1.0, 2.0, 3.0], [4.0, 5.0, 6.0]])\n",
    "\n",
    "print(f\"The shape of A is: {A.shape = }\")\n",
    "print(f\"{A = } \\n\")\n",
    "\n",
    "print(f\"Row 0: {A[0, :] = }\")\n",
    "print(f\"Row 1: {A[1, :] = } \\n\")\n",
    "\n",
    "print(f\"Column 0: {A[:, 0] = }\")\n",
    "print(f\"Column 1: {A[:, 1] = } \\n\")\n",
    "\n",
    "print(f\"Element at row index 0 and column index 2: {A[0, 2] = }\")"
   ]
  },
  {
   "cell_type": "markdown",
   "id": "2636281d",
   "metadata": {},
   "source": [
    "Transpose of matrices: method array.T"
   ]
  },
  {
   "cell_type": "code",
   "execution_count": 10,
   "id": "df989990",
   "metadata": {},
   "outputs": [
    {
     "name": "stdout",
     "output_type": "stream",
     "text": [
      "The shape of A is: A.shape = (2, 3)\n",
      "A = array([[1., 2., 3.],\n",
      "       [4., 5., 6.]]) \n",
      "\n",
      "Row 0: A[0, :] = array([1., 2., 3.])\n",
      "Row 1: A[1, :] = array([4., 5., 6.]) \n",
      "\n",
      "Column 0: A[:, 0] = array([1., 4.])\n",
      "Column 1: A[:, 1] = array([2., 5.]) \n",
      "\n",
      "----------------------------------------\n",
      "The shape of B is: B.shape = (3, 2)\n",
      "A.T: B = array([[1., 4.],\n",
      "       [2., 5.],\n",
      "       [3., 6.]]) \n",
      "\n",
      "Row 0: B[0, :] = array([1., 4.])\n",
      "Row 1: B[1, :] = array([2., 5.]) \n",
      "\n",
      "Column 0: B[:, 0] = array([1., 2., 3.])\n",
      "Column 1: B[:, 1] = array([4., 5., 6.]) \n",
      "\n"
     ]
    }
   ],
   "source": [
    "A = np.array([[1.0, 2.0, 3.0], [4.0, 5.0, 6.0]])\n",
    "\n",
    "print(f\"The shape of A is: {A.shape = }\")\n",
    "print(f\"{A = } \\n\")\n",
    "\n",
    "print(f\"Row 0: {A[0, :] = }\")\n",
    "print(f\"Row 1: {A[1, :] = } \\n\")\n",
    "\n",
    "print(f\"Column 0: {A[:, 0] = }\")\n",
    "print(f\"Column 1: {A[:, 1] = } \\n\")\n",
    "\n",
    "print(\"-\"*40)\n",
    "\n",
    "B = A.T # The Transpose method\n",
    "print(f\"The shape of B is: {B.shape = }\")\n",
    "print(f\"A.T: {B = } \\n\")\n",
    "\n",
    "print(f\"Row 0: {B[0, :] = }\")\n",
    "print(f\"Row 1: {B[1, :] = } \\n\")\n",
    "\n",
    "print(f\"Column 0: {B[:, 0] = }\")\n",
    "print(f\"Column 1: {B[:, 1] = } \\n\")"
   ]
  },
  {
   "cell_type": "markdown",
   "id": "b055cc89",
   "metadata": {},
   "source": [
    "### Random Numbers, Vectors, and Matrices with Numpy\n",
    "Note: \n",
    "- 'Random': something cannot be predicted logically.\n",
    "- 'Pseudo Random': generate numbers through a generation algorithm"
   ]
  },
  {
   "cell_type": "code",
   "execution_count": 11,
   "id": "b5cb61cc",
   "metadata": {},
   "outputs": [
    {
     "name": "stdout",
     "output_type": "stream",
     "text": [
      "x = 36\n",
      "y = 0.3652818411444567\n"
     ]
    }
   ],
   "source": [
    "# Random Integer between 0 and 100\n",
    "x = np.random.randint(100)\n",
    "print(f\"{x = }\")\n",
    "\n",
    "# Random Float between 0 and 1\n",
    "y = np.random.rand()\n",
    "print(f\"{y = }\")"
   ]
  },
  {
   "cell_type": "code",
   "execution_count": 12,
   "id": "2a438393",
   "metadata": {},
   "outputs": [
    {
     "name": "stdout",
     "output_type": "stream",
     "text": [
      "x = array([76, 56, 46, 19, 48])\n",
      "y = array([0.82904449, 0.65409559, 0.05904608, 0.70056904, 0.10227466])\n"
     ]
    }
   ],
   "source": [
    "# Random integer array with range 0 to 100 and 5 entries\n",
    "x = np.random.randint(100, size=(5))\n",
    "print(f\"{x = }\")\n",
    "\n",
    "# Random float array with range 0 to 1 and 5 entries\n",
    "y = np.random.rand(5)\n",
    "print(f\"{y = }\")"
   ]
  },
  {
   "cell_type": "code",
   "execution_count": 13,
   "id": "952e8cb3",
   "metadata": {},
   "outputs": [
    {
     "name": "stdout",
     "output_type": "stream",
     "text": [
      "The shape of A is: A.shape = (3, 2)\n",
      "A = array([[0.44490841, 0.89243543],\n",
      "       [0.38146763, 0.4761685 ],\n",
      "       [0.75363959, 0.0647577 ]]) \n",
      "\n",
      "Row 0: A[0, :] = array([0.44490841, 0.89243543])\n",
      "Row 1: A[1, :] = array([0.38146763, 0.4761685 ]) \n",
      "\n",
      "Column 0: A[:, 0] = array([0.44490841, 0.38146763, 0.75363959])\n",
      "Column 1: A[:, 1] = array([0.89243543, 0.4761685 , 0.0647577 ]) \n",
      "\n"
     ]
    }
   ],
   "source": [
    "A = np.random.rand(3, 2)\n",
    "print(f\"The shape of A is: {A.shape = }\")\n",
    "print(f\"{A = } \\n\")\n",
    "\n",
    "print(f\"Row 0: {A[0, :] = }\")\n",
    "print(f\"Row 1: {A[1, :] = } \\n\")\n",
    "\n",
    "print(f\"Column 0: {A[:, 0] = }\")\n",
    "print(f\"Column 1: {A[:, 1] = } \\n\")"
   ]
  },
  {
   "cell_type": "code",
   "execution_count": 14,
   "id": "ffc1a26e",
   "metadata": {},
   "outputs": [
    {
     "name": "stdout",
     "output_type": "stream",
     "text": [
      "[0.89243543 0.4761685 ]\n"
     ]
    },
    {
     "data": {
      "text/plain": [
       "(2,)"
      ]
     },
     "execution_count": 14,
     "metadata": {},
     "output_type": "execute_result"
    }
   ],
   "source": [
    "v = A[0:2, 1]\n",
    "print(v)\n",
    "v.shape"
   ]
  },
  {
   "cell_type": "code",
   "execution_count": 15,
   "id": "5212f783",
   "metadata": {},
   "outputs": [
    {
     "name": "stdout",
     "output_type": "stream",
     "text": [
      "x = 3\n"
     ]
    }
   ],
   "source": [
    "x = np.random.choice([3, 6, 9, 12])\n",
    "print(f\"{x = }\")"
   ]
  },
  {
   "cell_type": "code",
   "execution_count": 16,
   "id": "107e9b4d",
   "metadata": {},
   "outputs": [
    {
     "name": "stdout",
     "output_type": "stream",
     "text": [
      "The shape of B is B.shape = (3, 2)\n",
      "B = array([[45, 59],\n",
      "       [20, 38],\n",
      "       [60, 81]])\n",
      "\n",
      "Row 0: B[0, :] = array([45, 59])\n",
      "Row 1: B[1, :] = array([20, 38])\n",
      "\n",
      "Column 0: B[:, 0] = array([45, 20, 60])\n",
      "Column 1: B[:, 1] = array([59, 38, 81])\n",
      "\n"
     ]
    }
   ],
   "source": [
    "B = np.random.randint(100, size = (3,2))\n",
    "print(f\"The shape of B is {B.shape = }\")\n",
    "print(f\"{B = }\\n\")\n",
    "\n",
    "print(f\"Row 0: {B[0, :] = }\")\n",
    "print(f\"Row 1: {B[1, :] = }\\n\")\n",
    "\n",
    "print(f\"Column 0: {B[:, 0] = }\")\n",
    "print(f\"Column 1: {B[:, 1] = }\\n\")"
   ]
  }
 ],
 "metadata": {
  "kernelspec": {
   "display_name": "Python 3 (ipykernel)",
   "language": "python",
   "name": "python3"
  },
  "language_info": {
   "codemirror_mode": {
    "name": "ipython",
    "version": 3
   },
   "file_extension": ".py",
   "mimetype": "text/x-python",
   "name": "python",
   "nbconvert_exporter": "python",
   "pygments_lexer": "ipython3",
   "version": "3.9.13"
  }
 },
 "nbformat": 4,
 "nbformat_minor": 5
}

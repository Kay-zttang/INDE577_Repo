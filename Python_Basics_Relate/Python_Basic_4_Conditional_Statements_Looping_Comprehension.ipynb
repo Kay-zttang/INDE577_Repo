{
 "cells": [
  {
   "cell_type": "markdown",
   "id": "cb8c01e0",
   "metadata": {},
   "source": [
    "## Conditional Statements\n",
    "Note:\n",
    "1. If (condition) and else (condition) are both proceeded by :\n",
    "2. Each line of the block indented by 4 white spaces"
   ]
  },
  {
   "cell_type": "code",
   "execution_count": 1,
   "id": "7d20318e",
   "metadata": {},
   "outputs": [
    {
     "name": "stdout",
     "output_type": "stream",
     "text": [
      "x = 10\n",
      "y = 4\n",
      "x is greater than y\n"
     ]
    }
   ],
   "source": [
    "x = 10\n",
    "y = 4\n",
    "print(f\"x = {x}\")\n",
    "print(f\"y = {y}\")\n",
    "\n",
    "if x > y:\n",
    "    print(\"x is greater than y\")\n",
    "else:\n",
    "    print(\"x is less than y\")"
   ]
  },
  {
   "cell_type": "code",
   "execution_count": 2,
   "id": "de6ef8ce",
   "metadata": {},
   "outputs": [
    {
     "name": "stdout",
     "output_type": "stream",
     "text": [
      "x = 10\n",
      "y = 20\n",
      "x is less than y\n"
     ]
    }
   ],
   "source": [
    "x = 10\n",
    "y = 20\n",
    "print(f\"{x = }\") # Only works on Python 3.8 and higher\n",
    "print(f\"y = {y}\")\n",
    "\n",
    "if x > y:\n",
    "    print(\"x is greater than y\")\n",
    "else:\n",
    "    print(\"x is less than y\")"
   ]
  },
  {
   "cell_type": "code",
   "execution_count": 3,
   "id": "3de166b2",
   "metadata": {},
   "outputs": [
    {
     "name": "stdout",
     "output_type": "stream",
     "text": [
      "x = 10\n",
      "y = 10\n",
      "x is equal to y\n"
     ]
    }
   ],
   "source": [
    "x = 10\n",
    "y = 10\n",
    "print(f\"{x = }\")\n",
    "print(f\"y = {y}\")\n",
    "\n",
    "if x > y:\n",
    "    print(\"x is greater than y\")\n",
    "elif x == y:\n",
    "    print(\"x is equal to y\")\n",
    "else:\n",
    "    print(\"x is less than y\")"
   ]
  },
  {
   "cell_type": "markdown",
   "id": "a1466a8f",
   "metadata": {},
   "source": [
    "## Looping\n",
    "Note:\n",
    "1. While (loop) and for (loop) are both proceeded by :\n",
    "2. while: loop until condition broken by the way of some Boolean comparison\n",
    "3. for: loop to search through some iterable objects"
   ]
  },
  {
   "cell_type": "code",
   "execution_count": 4,
   "id": "eaa9dce7",
   "metadata": {},
   "outputs": [
    {
     "name": "stdout",
     "output_type": "stream",
     "text": [
      "i = 1\n",
      "i = 2\n",
      "i = 3\n",
      "i = 4\n",
      "i = 5\n",
      "i = 6\n",
      "i = 7\n",
      "i = 8\n",
      "i = 9\n"
     ]
    }
   ],
   "source": [
    "i = 1\n",
    "max_iterations = 10\n",
    "while i < max_iterations:\n",
    "    print(f\"i = {i}\")\n",
    "    i += 1  # The += operator increments the variable i by 1 (adds 1)"
   ]
  },
  {
   "cell_type": "code",
   "execution_count": 5,
   "id": "50fd7b0b",
   "metadata": {},
   "outputs": [
    {
     "name": "stdout",
     "output_type": "stream",
     "text": [
      "Randy\n",
      "Andrew\n",
      "Ben\n",
      "Chrisy\n",
      "Rusty\n"
     ]
    }
   ],
   "source": [
    "names = [\"Randy\", \"Andrew\", \"Ben\", \"Chrisy\", \"Rusty\"]\n",
    "\n",
    "for name in names:\n",
    "    print(name)"
   ]
  },
  {
   "cell_type": "code",
   "execution_count": 6,
   "id": "befbfa0e",
   "metadata": {},
   "outputs": [
    {
     "name": "stdout",
     "output_type": "stream",
     "text": [
      "index: 0, name: Randy\n",
      "index: 1, name: Andrew\n",
      "index: 2, name: Ben\n",
      "index: 3, name: Chrisy\n",
      "index: 4, name: Rusty\n"
     ]
    }
   ],
   "source": [
    "names = [\"Randy\", \"Andrew\", \"Ben\", \"Chrisy\", \"Rusty\"]\n",
    "\n",
    "for i, name in enumerate(names):\n",
    "    print(f\"index: {i}, name: {name}\")"
   ]
  },
  {
   "cell_type": "code",
   "execution_count": 7,
   "id": "45ce8737",
   "metadata": {},
   "outputs": [
    {
     "name": "stdout",
     "output_type": "stream",
     "text": [
      "Name: Randy, Age: 34\n",
      "Name: Andrew, Age: 35\n",
      "Name: Ben, Age: 35\n",
      "Name: Chrisy, Age: 32\n",
      "Name: Rusty, Age: 39\n"
     ]
    }
   ],
   "source": [
    "names = [\"Randy\", \"Andrew\", \"Ben\", \"Chrisy\", \"Rusty\"]\n",
    "ages = [34, 35, 35, 32, 39]\n",
    "\n",
    "for name, age in zip(names, ages):\n",
    "    print(f\"Name: {name}, Age: {age}\")"
   ]
  },
  {
   "cell_type": "code",
   "execution_count": 8,
   "id": "2a198c6f",
   "metadata": {},
   "outputs": [
    {
     "name": "stdout",
     "output_type": "stream",
     "text": [
      "Help on class zip in module builtins:\n",
      "\n",
      "class zip(object)\n",
      " |  zip(*iterables) --> A zip object yielding tuples until an input is exhausted.\n",
      " |  \n",
      " |     >>> list(zip('abcdefg', range(3), range(4)))\n",
      " |     [('a', 0, 0), ('b', 1, 1), ('c', 2, 2)]\n",
      " |  \n",
      " |  The zip object yields n-length tuples, where n is the number of iterables\n",
      " |  passed as positional arguments to zip().  The i-th element in every tuple\n",
      " |  comes from the i-th iterable argument to zip().  This continues until the\n",
      " |  shortest argument is exhausted.\n",
      " |  \n",
      " |  Methods defined here:\n",
      " |  \n",
      " |  __getattribute__(self, name, /)\n",
      " |      Return getattr(self, name).\n",
      " |  \n",
      " |  __iter__(self, /)\n",
      " |      Implement iter(self).\n",
      " |  \n",
      " |  __next__(self, /)\n",
      " |      Implement next(self).\n",
      " |  \n",
      " |  __reduce__(...)\n",
      " |      Return state information for pickling.\n",
      " |  \n",
      " |  ----------------------------------------------------------------------\n",
      " |  Static methods defined here:\n",
      " |  \n",
      " |  __new__(*args, **kwargs) from builtins.type\n",
      " |      Create and return a new object.  See help(type) for accurate signature.\n",
      "\n"
     ]
    }
   ],
   "source": [
    "help(zip)"
   ]
  },
  {
   "cell_type": "markdown",
   "id": "c6bb3f0f",
   "metadata": {},
   "source": [
    "## Comprehension"
   ]
  },
  {
   "cell_type": "code",
   "execution_count": 9,
   "id": "f6bbb580",
   "metadata": {},
   "outputs": [
    {
     "name": "stdout",
     "output_type": "stream",
     "text": [
      "normal_list = [1, 2, 3, 4, 5, 6, 7, 8, 9, 10] \n",
      "\n",
      "even_list = [2, 4, 6, 8, 10] \n",
      "\n",
      "odd_list = [1, 3, 5, 7, 9] \n",
      "\n",
      "even_or_odd = {1: 'odd', 2: 'even', 3: 'odd', 4: 'even', 5: 'odd', 6: 'even', 7: 'odd', 8: 'even', 9: 'odd', 10: 'even'} \n",
      "\n"
     ]
    }
   ],
   "source": [
    "normal_list = [1, 2, 3, 4, 5, 6, 7, 8, 9, 10]\n",
    "print(f\"normal_list = {normal_list} \\n\")\n",
    "\n",
    "even_list = [x for x in normal_list if x % 2 == 0]\n",
    "print(f\"even_list = {even_list} \\n\")\n",
    "\n",
    "odd_list = [x for x in normal_list if x % 2 != 0]\n",
    "print(f\"odd_list = {odd_list} \\n\")\n",
    "\n",
    "even_or_odd = {x : \"even\" if x % 2 == 0 else \"odd\" for x in normal_list}\n",
    "print(f\"even_or_odd = {even_or_odd} \\n\")"
   ]
  }
 ],
 "metadata": {
  "kernelspec": {
   "display_name": "Python 3 (ipykernel)",
   "language": "python",
   "name": "python3"
  },
  "language_info": {
   "codemirror_mode": {
    "name": "ipython",
    "version": 3
   },
   "file_extension": ".py",
   "mimetype": "text/x-python",
   "name": "python",
   "nbconvert_exporter": "python",
   "pygments_lexer": "ipython3",
   "version": "3.9.13"
  }
 },
 "nbformat": 4,
 "nbformat_minor": 5
}

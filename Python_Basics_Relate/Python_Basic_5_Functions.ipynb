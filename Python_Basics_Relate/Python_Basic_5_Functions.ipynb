{
 "cells": [
  {
   "cell_type": "markdown",
   "id": "7bef20a1",
   "metadata": {},
   "source": [
    "## Functions\n",
    "Note:\n",
    "* Built-in functions / self-defined functions\n",
    "* Interface: arguments / values"
   ]
  },
  {
   "cell_type": "code",
   "execution_count": 1,
   "id": "9692f1ac",
   "metadata": {},
   "outputs": [
    {
     "name": "stdout",
     "output_type": "stream",
     "text": [
      "Randy\n",
      "Andrew\n",
      "Ben\n",
      "Christy\n",
      "Rusty\n"
     ]
    }
   ],
   "source": [
    "names = [\"Randy\", \"Andrew\", \"Ben\", \"Christy\", \"Rusty\"]\n",
    "for name in names:\n",
    "    print(name)"
   ]
  },
  {
   "cell_type": "code",
   "execution_count": 2,
   "id": "96dfa04f",
   "metadata": {},
   "outputs": [
    {
     "name": "stdout",
     "output_type": "stream",
     "text": [
      "first_list:\n",
      "------------------------\n",
      "Randy\n",
      "Andrew\n",
      "Ben\n",
      "Christy\n",
      "Rusty\n",
      "\n",
      "\n",
      "second_list\n",
      "------------------------\n",
      "Rice University\n",
      "University of Houston\n",
      "University of Texas\n",
      "Texas A&M\n",
      "Texas State University\n",
      "\n",
      "\n"
     ]
    }
   ],
   "source": [
    "first_list = [\"Randy\", \"Andrew\", \"Ben\", \"Christy\", \"Rusty\"]\n",
    "second_list = [\"Rice University\", \n",
    "               \"University of Houston\", \n",
    "               \"University of Texas\", \n",
    "               \"Texas A&M\",\n",
    "               \"Texas State University\"]\n",
    "\n",
    "def print_items(items):\n",
    "    for item in items:\n",
    "        print(item)\n",
    "    print(\"\\n\")\n",
    "\n",
    "print(\"first_list:\")\n",
    "print(\"------------------------\")\n",
    "print_items(first_list)\n",
    "\n",
    "\n",
    "print(\"second_list\")\n",
    "print(\"------------------------\")\n",
    "print_items(second_list)"
   ]
  },
  {
   "cell_type": "markdown",
   "id": "46fa5cb1",
   "metadata": {},
   "source": [
    "### Keyword Arguments\n",
    "Note:\n",
    "* right-hand side / follow the non-optional arguments"
   ]
  },
  {
   "cell_type": "code",
   "execution_count": 3,
   "id": "a1a2ad73",
   "metadata": {},
   "outputs": [
    {
     "name": "stdout",
     "output_type": "stream",
     "text": [
      "----- My First List -----\n",
      "-------------------------\n",
      "Randy\n",
      "Andrew\n",
      "Ben\n",
      "Christy\n",
      "Rusty\n",
      "\n",
      "\n",
      "----- Texas Universities -----\n",
      "------------------------------\n",
      "1. Rice University\n",
      "2. University of Houston\n",
      "3. University of Texas\n",
      "4. Texas A&M\n",
      "5. Texas State University\n",
      "\n",
      "\n"
     ]
    }
   ],
   "source": [
    "def print_items(items, my_title = \"My List\", show_numbers = False):\n",
    "\n",
    "    title = f\"----- {my_title.title()} -----\" \n",
    "    line = \"-\"*len(title) \n",
    "\n",
    "    print(title)\n",
    "    print(line)\n",
    "\n",
    "    if show_numbers:\n",
    "        # If show_numbers == True use the enumerate function to number the items\n",
    "        for i, item in enumerate(items):\n",
    "            print(f\"{i+1}. {item}\")\n",
    "    else:\n",
    "        # If show_numbers == False simply print the items \n",
    "        for item in items:\n",
    "            print(item)\n",
    "    print(\"\\n\")\n",
    "\n",
    "\n",
    "print_items(first_list, my_title = \"my first list\")\n",
    "print_items(second_list, my_title = \"texas universities\", show_numbers = True)"
   ]
  },
  {
   "cell_type": "markdown",
   "id": "387dd4cc",
   "metadata": {},
   "source": [
    "### Exceptions (Error Catching)"
   ]
  },
  {
   "cell_type": "code",
   "execution_count": 4,
   "id": "461d982b",
   "metadata": {},
   "outputs": [
    {
     "ename": "TypeError",
     "evalue": "items argument must be of type 'list'",
     "output_type": "error",
     "traceback": [
      "\u001b[1;31m---------------------------------------------------------------------------\u001b[0m",
      "\u001b[1;31mTypeError\u001b[0m                                 Traceback (most recent call last)",
      "\u001b[1;32m~\\AppData\\Local\\Temp\\ipykernel_9648\\2491161425.py\u001b[0m in \u001b[0;36m<module>\u001b[1;34m\u001b[0m\n\u001b[0;32m     21\u001b[0m \u001b[1;33m\u001b[0m\u001b[0m\n\u001b[0;32m     22\u001b[0m \u001b[1;33m\u001b[0m\u001b[0m\n\u001b[1;32m---> 23\u001b[1;33m \u001b[0mprint_items\u001b[0m\u001b[1;33m(\u001b[0m\u001b[1;34m\"hello\"\u001b[0m\u001b[1;33m)\u001b[0m\u001b[1;33m\u001b[0m\u001b[1;33m\u001b[0m\u001b[0m\n\u001b[0m",
      "\u001b[1;32m~\\AppData\\Local\\Temp\\ipykernel_9648\\2491161425.py\u001b[0m in \u001b[0;36mprint_items\u001b[1;34m(items, my_title, show_numbers)\u001b[0m\n\u001b[0;32m      2\u001b[0m \u001b[1;33m\u001b[0m\u001b[0m\n\u001b[0;32m      3\u001b[0m     \u001b[1;32mif\u001b[0m \u001b[1;32mnot\u001b[0m \u001b[0mtype\u001b[0m\u001b[1;33m(\u001b[0m\u001b[0mitems\u001b[0m\u001b[1;33m)\u001b[0m \u001b[1;32mis\u001b[0m \u001b[0mlist\u001b[0m\u001b[1;33m:\u001b[0m\u001b[1;33m\u001b[0m\u001b[1;33m\u001b[0m\u001b[0m\n\u001b[1;32m----> 4\u001b[1;33m           \u001b[1;32mraise\u001b[0m \u001b[0mTypeError\u001b[0m\u001b[1;33m(\u001b[0m\u001b[1;34m\"items argument must be of type 'list'\"\u001b[0m\u001b[1;33m)\u001b[0m\u001b[1;33m\u001b[0m\u001b[1;33m\u001b[0m\u001b[0m\n\u001b[0m\u001b[0;32m      5\u001b[0m \u001b[1;33m\u001b[0m\u001b[0m\n\u001b[0;32m      6\u001b[0m     \u001b[1;32mif\u001b[0m \u001b[1;32mnot\u001b[0m \u001b[0mtype\u001b[0m\u001b[1;33m(\u001b[0m\u001b[0mmy_title\u001b[0m\u001b[1;33m)\u001b[0m \u001b[1;32mis\u001b[0m \u001b[0mstr\u001b[0m\u001b[1;33m:\u001b[0m\u001b[1;33m\u001b[0m\u001b[1;33m\u001b[0m\u001b[0m\n",
      "\u001b[1;31mTypeError\u001b[0m: items argument must be of type 'list'"
     ]
    }
   ],
   "source": [
    "def print_items(items, my_title = \"My List\", show_numbers = False):\n",
    "\n",
    "    if not type(items) is list:\n",
    "          raise TypeError(\"items argument must be of type 'list'\")\n",
    "\n",
    "    if not type(my_title) is str:\n",
    "          raise TypeError(\"my_title argument must be of type 'str'\")\n",
    "\n",
    "    if not type(show_number) is bool:\n",
    "          raise TypeError(\"show_numbers argument must be of type 'bool'\")\n",
    "\n",
    "    print(f\"{my_title.title()}\")\n",
    "    print(\"------------------------\")\n",
    "    if show_numbers:\n",
    "        for i, item in enumerate(items):\n",
    "            print(f\"{i+1}. {item}\")\n",
    "    else:\n",
    "        for item in items:\n",
    "            print(item)\n",
    "    print(\"\\n\")\n",
    "\n",
    "\n",
    "print_items(\"hello\")"
   ]
  },
  {
   "cell_type": "markdown",
   "id": "3264fc23",
   "metadata": {},
   "source": [
    "### Docsrtings\n",
    "Note:\n",
    "* For Def(...): Using(\"\"\"....\"\"\")\n",
    "* Should Contains:\n",
    "    * a brief description: method and usage\n",
    "    * arguments passed\n",
    "    * values returned\n",
    "    * label arguments: optional or default\n",
    "    * side effects \n",
    "    * exceptions raised"
   ]
  },
  {
   "cell_type": "code",
   "execution_count": null,
   "id": "01ed88cf",
   "metadata": {},
   "outputs": [],
   "source": [
    "def print_items(items, my_title = \"My List\", show_numbers = False):\n",
    "    \"\"\"Prints the elements in items to the user.\n",
    "\n",
    "        Parameters\n",
    "        ----------\n",
    "        items: list\n",
    "            The list of elements to be printed to the user\n",
    "\n",
    "        my_title : str, optional\n",
    "            The title to appear above the elements in items (default is 'My List')\n",
    "\n",
    "        show_numbers : bool, optional\n",
    "            If true the elements in items will be printed next to\n",
    "            their corresponding index (default is False)\n",
    "\n",
    "        Raises\n",
    "        ------\n",
    "        TypeError\n",
    "            If items is not a Python list type.\n",
    "            If my_title is not a Python str type.\n",
    "            If show_numbers is not a Python bool type.\n",
    "\n",
    "        Returns\n",
    "        ------\n",
    "        None\n",
    "\n",
    "    \"\"\"\n",
    "\n",
    "    if not type(items) is list:\n",
    "          raise TypeError(\"items argument must be of type 'list'\")\n",
    "\n",
    "    if not type(my_title) is str:\n",
    "          raise TypeError(\"my_title argument must be of type 'str'\")\n",
    "\n",
    "    if not type(show_number) is bool:\n",
    "          raise TypeError(\"show_numbers argument must be of type 'bool'\")\n",
    "\n",
    "    print(f\"{my_title.title()}\")\n",
    "    print(\"------------------------\")\n",
    "    if show_numbers:\n",
    "        for i, item in enumerate(items):\n",
    "            print(f\"{i+1}. {item}\")\n",
    "    else:\n",
    "        for item in items:\n",
    "            print(item)\n",
    "    print(\"\\n\")\n",
    "\n",
    "\n",
    "# Call the built in help function to view your docstring\n",
    "help(print_items)"
   ]
  },
  {
   "cell_type": "markdown",
   "id": "2cae5105",
   "metadata": {},
   "source": [
    "### The Return Statement\n",
    "Note:\n",
    "* terminate the function\n",
    "* mechanism  where the function can pass data back"
   ]
  },
  {
   "cell_type": "code",
   "execution_count": null,
   "id": "a6d25e12",
   "metadata": {},
   "outputs": [],
   "source": [
    "def sign(x):\n",
    "    \"\"\"The sign activation function returns positive one if the \n",
    "       argument x is positive and negative one otherwise.\n",
    "\n",
    "        Parameters\n",
    "        ----------\n",
    "        x: int or float\n",
    "         numerical value\n",
    "\n",
    "        Raises\n",
    "        ------\n",
    "        TypeError\n",
    "            If x is neither int type or float type\n",
    "\n",
    "        Returns\n",
    "        ------\n",
    "        positive one if x is positive\n",
    "        negative one if x is negative\n",
    "\n",
    "    \"\"\"\n",
    "\n",
    "    if type(x) not in [float, int]:\n",
    "          raise TypeError(\"x argument must be of type 'int' or 'float'\")\n",
    "\n",
    "    if x >= 0:\n",
    "        return 1\n",
    "    else:\n",
    "        return -1\n",
    "\n",
    "x = sign(10)\n",
    "y = sign(-9.3)\n",
    "print(f\"sign(10) = {x}\")\n",
    "print(f\"sign(-9.3) = {y}\")"
   ]
  },
  {
   "cell_type": "markdown",
   "id": "3a19300a",
   "metadata": {},
   "source": [
    "### Mutating Objects with Functions"
   ]
  },
  {
   "cell_type": "code",
   "execution_count": null,
   "id": "ca791428",
   "metadata": {},
   "outputs": [],
   "source": [
    "def double_list(x):\n",
    "    i = 0\n",
    "    while i < len(x):\n",
    "        x[i] *= 2\n",
    "        i += 1\n",
    "        \n",
    "    return None"
   ]
  },
  {
   "cell_type": "code",
   "execution_count": null,
   "id": "90145a7d",
   "metadata": {},
   "outputs": [],
   "source": [
    "x = [1, 2, 3, 4, 5, 6]\n",
    "\n",
    "double_list(x)\n",
    "\n",
    "print(x)"
   ]
  },
  {
   "cell_type": "markdown",
   "id": "6c0c8071",
   "metadata": {},
   "source": [
    "### Scope\n",
    "Node:\n",
    "* Local Scope"
   ]
  },
  {
   "cell_type": "code",
   "execution_count": null,
   "id": "9166919b",
   "metadata": {},
   "outputs": [],
   "source": [
    "def myfunc():\n",
    "  x = 300\n",
    "  print(x)\n",
    "\n",
    "myfunc()"
   ]
  },
  {
   "cell_type": "markdown",
   "id": "4ef33a18",
   "metadata": {},
   "source": [
    "* Global Scope"
   ]
  },
  {
   "cell_type": "code",
   "execution_count": null,
   "id": "a2cbbe1c",
   "metadata": {},
   "outputs": [],
   "source": [
    "x = 300\n",
    "\n",
    "def myfunc():\n",
    "  print(x)\n",
    "\n",
    "myfunc()\n",
    "\n",
    "print(x)"
   ]
  }
 ],
 "metadata": {
  "kernelspec": {
   "display_name": "Python 3 (ipykernel)",
   "language": "python",
   "name": "python3"
  },
  "language_info": {
   "codemirror_mode": {
    "name": "ipython",
    "version": 3
   },
   "file_extension": ".py",
   "mimetype": "text/x-python",
   "name": "python",
   "nbconvert_exporter": "python",
   "pygments_lexer": "ipython3",
   "version": "3.9.13"
  }
 },
 "nbformat": 4,
 "nbformat_minor": 5
}

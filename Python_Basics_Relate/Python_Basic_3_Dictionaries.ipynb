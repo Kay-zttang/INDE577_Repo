{
 "cells": [
  {
   "cell_type": "markdown",
   "id": "12d83344",
   "metadata": {},
   "source": [
    "## Dictionaries\n",
    "\n",
    "Note:\n",
    "1. key-value pairs (key:value)\n",
    "2. pairs separated by comma(,)\n",
    "3. Tuples in List"
   ]
  },
  {
   "cell_type": "code",
   "execution_count": 1,
   "id": "4c409ee7",
   "metadata": {
    "scrolled": true
   },
   "outputs": [
    {
     "name": "stdout",
     "output_type": "stream",
     "text": [
      "sample_dictionary = {'first_name': 'John', 'last_name': 'Doe', 'age': 34}\n",
      "sample_dictionary key-value pairs = dict_items([('first_name', 'John'), ('last_name', 'Doe'), ('age', 34)])\n"
     ]
    }
   ],
   "source": [
    "sample_dictionary = {\"first_name\": \"John\", \n",
    "                     \"last_name\": \"Doe\",\n",
    "                     \"age\": 34\n",
    "                    }\n",
    "\n",
    "print(f\"sample_dictionary = {sample_dictionary}\")\n",
    "print(f\"sample_dictionary key-value pairs = {sample_dictionary.items()}\")"
   ]
  },
  {
   "cell_type": "code",
   "execution_count": 2,
   "id": "bba3760a",
   "metadata": {},
   "outputs": [
    {
     "name": "stdout",
     "output_type": "stream",
     "text": [
      "sample_dictionary = {'first_name': 'John', 'last_name': 'Doe', 'age': 34} \n",
      "\n",
      "sample_dictionary['first_name'] = John \n",
      "\n",
      "sample_dictionary['last_name'] = Doe \n",
      "\n",
      "sample_dictionary['age'] = 34 \n",
      "\n"
     ]
    }
   ],
   "source": [
    "print(f\"sample_dictionary = {sample_dictionary} \\n\")\n",
    "print(f\"sample_dictionary['first_name'] = {sample_dictionary['first_name']} \\n\")\n",
    "print(f\"sample_dictionary['last_name'] = {sample_dictionary['last_name']} \\n\")\n",
    "print(f\"sample_dictionary['age'] = {sample_dictionary['age']} \\n\")"
   ]
  },
  {
   "cell_type": "markdown",
   "id": "79ff73f8",
   "metadata": {},
   "source": [
    "*If use \"\" inside to show the key_name, will get an error. *"
   ]
  },
  {
   "cell_type": "code",
   "execution_count": 3,
   "id": "1e195a50",
   "metadata": {},
   "outputs": [
    {
     "name": "stdout",
     "output_type": "stream",
     "text": [
      "sample_dictionary = {'first_name': 'John', 'last_name': 'Doe', 'age': 34} \n",
      "\n",
      "sample_dictionary keys = dict_keys(['first_name', 'last_name', 'age']) \n",
      "\n"
     ]
    }
   ],
   "source": [
    "print(f\"sample_dictionary = {sample_dictionary} \\n\")\n",
    "print(f\"sample_dictionary keys = {sample_dictionary.keys()} \\n\")"
   ]
  },
  {
   "cell_type": "code",
   "execution_count": 4,
   "id": "0fcab46c",
   "metadata": {},
   "outputs": [
    {
     "name": "stdout",
     "output_type": "stream",
     "text": [
      "new_dictionary before modification:\n",
      "{'first_name': 'John', 'last_name': 'Doe', 'age': 34} \n",
      "\n",
      "----------------------------------------------------------------------\n",
      "new_dictionary after modification:\n",
      "{'first_name': 'Jane', 'last_name': 'Doe', 'age': 34, 'sex': 'female'} \n",
      "\n"
     ]
    }
   ],
   "source": [
    "new_dictionary = {'first_name': 'John', 'last_name': 'Doe', 'age': 34}\n",
    "\n",
    "print(\"new_dictionary before modification:\")\n",
    "print(new_dictionary, \"\\n\")\n",
    "\n",
    "print(\"----------------------------------------------------------------------\")\n",
    "\n",
    "new_dictionary[\"first_name\"] = \"Jane\"\n",
    "new_dictionary[\"sex\"] = \"female\"\n",
    "\n",
    "print(\"new_dictionary after modification:\")\n",
    "print(new_dictionary, \"\\n\")"
   ]
  },
  {
   "cell_type": "markdown",
   "id": "46bd963f",
   "metadata": {},
   "source": [
    "*When assigned a new key-value pair to the dictionary and the key already exists, then the new value will replace the old one.*"
   ]
  },
  {
   "cell_type": "markdown",
   "id": "83360f48",
   "metadata": {},
   "source": [
    "### Restrictions on Dicionary Keys\n",
    "1. Keys not allowed duplicates.\n",
    "2. Keys must be immutable type: integers/float/string/boolean/tuple.\n",
    "\n",
    "### Restrictions on Dictionary Values\n",
    "1. Values can be mutable types such as list/dictionary.\n",
    "2. Keys can point to dictionaries(value), therefore model a database"
   ]
  },
  {
   "cell_type": "code",
   "execution_count": 5,
   "id": "daf2aba4",
   "metadata": {},
   "outputs": [],
   "source": [
    "employees = {\"John\": {\"Age\": 20, \"Position\": \"sales\", \"Salary\": 60_000},\n",
    "             \"Jane\" :{\"Age\": 25, \"Position\": \"management\", \"Salary\": 80_000}\n",
    "            }\n",
    "\n",
    "vendors = {\"Houston Supply\" : {\"Product\": \"computers\", \"Monthly Fee\": 20_000,},\n",
    "           \"ACME\": {\"Product\": \"keyboards\", \"Monthly Fee\": 3_000}\n",
    "          }\n",
    "\n",
    "database = {\"employees\": employees, \"vendors\": vendors}"
   ]
  },
  {
   "cell_type": "code",
   "execution_count": 6,
   "id": "6282e5f4",
   "metadata": {},
   "outputs": [
    {
     "name": "stdout",
     "output_type": "stream",
     "text": [
      "{'John': {'Age': 20, 'Position': 'sales', 'Salary': 60000}, 'Jane': {'Age': 25, 'Position': 'management', 'Salary': 80000}}\n"
     ]
    }
   ],
   "source": [
    "print(database[\"employees\"])"
   ]
  },
  {
   "cell_type": "code",
   "execution_count": 7,
   "id": "1b2cb235",
   "metadata": {},
   "outputs": [
    {
     "name": "stdout",
     "output_type": "stream",
     "text": [
      "{'Age': 25, 'Position': 'management', 'Salary': 80000}\n"
     ]
    }
   ],
   "source": [
    "print(database[\"employees\"][\"Jane\"])"
   ]
  },
  {
   "cell_type": "code",
   "execution_count": 8,
   "id": "59676901",
   "metadata": {},
   "outputs": [
    {
     "name": "stdout",
     "output_type": "stream",
     "text": [
      "{'employees': {'John': {'Age': 20, 'Position': 'sales', 'Salary': 60000}, 'Jane': {'Age': 25, 'Position': 'management', 'Salary': 80000}}, 'vendors': {'Houston Supply': {'Product': 'computers', 'Monthly Fee': 20000}, 'ACME': {'Product': 'keyboards', 'Monthly Fee': 3000}}}\n"
     ]
    }
   ],
   "source": [
    "print(database)"
   ]
  },
  {
   "cell_type": "code",
   "execution_count": 9,
   "id": "eb8246d6",
   "metadata": {},
   "outputs": [
    {
     "name": "stdout",
     "output_type": "stream",
     "text": [
      "{'Product': 'keyboards', 'Monthly Fee': 3000}\n"
     ]
    }
   ],
   "source": [
    "print(database[\"vendors\"][\"ACME\"])"
   ]
  },
  {
   "cell_type": "code",
   "execution_count": 10,
   "id": "f4fb6af0",
   "metadata": {},
   "outputs": [
    {
     "name": "stdout",
     "output_type": "stream",
     "text": [
      "Employees:\n",
      "----------\n",
      "           John:\n",
      "           ----------------\n",
      "           Age: 20\n",
      "           Position: sales\n",
      "           Salary: 60000\n",
      "\n",
      "           Jane:\n",
      "           ----------------\n",
      "           Age: 25\n",
      "           Position: management\n",
      "           Salary: 80000\n",
      "\n",
      "\n",
      "Vendors:\n",
      "----------\n",
      "           Houston supply:\n",
      "           ----------------\n",
      "           Product: computers\n",
      "           Monthly Fee: 20000\n",
      "\n",
      "           Acme:\n",
      "           ----------------\n",
      "           Product: keyboards\n",
      "           Monthly Fee: 3000\n",
      "\n",
      "\n"
     ]
    }
   ],
   "source": [
    "for field in database:\n",
    "    print(f\"{field.capitalize()}:\")\n",
    "    print(\"----------\")\n",
    "    for field_two in database[field]:\n",
    "        print(f\"           {field_two.capitalize()}:\")\n",
    "        print(\"           ----------------\")\n",
    "        for prop in database[field][field_two]:\n",
    "            print(f\"           {prop}: {database[field][field_two][prop]}\")\n",
    "        print()\n",
    "    print()"
   ]
  },
  {
   "cell_type": "markdown",
   "id": "ce922a44",
   "metadata": {},
   "source": [
    "* field: dictionary keys\n",
    "* prop: inside dictionary values"
   ]
  }
 ],
 "metadata": {
  "kernelspec": {
   "display_name": "Python 3 (ipykernel)",
   "language": "python",
   "name": "python3"
  },
  "language_info": {
   "codemirror_mode": {
    "name": "ipython",
    "version": 3
   },
   "file_extension": ".py",
   "mimetype": "text/x-python",
   "name": "python",
   "nbconvert_exporter": "python",
   "pygments_lexer": "ipython3",
   "version": "3.9.13"
  }
 },
 "nbformat": 4,
 "nbformat_minor": 5
}

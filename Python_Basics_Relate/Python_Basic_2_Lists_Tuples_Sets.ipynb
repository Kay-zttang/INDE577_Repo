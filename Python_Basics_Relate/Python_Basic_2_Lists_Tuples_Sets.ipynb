{
 "cells": [
  {
   "cell_type": "markdown",
   "id": "40a84be9",
   "metadata": {},
   "source": [
    "# Basic 2: Lists, Tuples, and Sets"
   ]
  },
  {
   "cell_type": "markdown",
   "id": "d5804115",
   "metadata": {},
   "source": [
    "## Lists\n",
    "Note:\n",
    "1. List can contain and order different type of objects."
   ]
  },
  {
   "cell_type": "code",
   "execution_count": 1,
   "id": "39c3b766",
   "metadata": {},
   "outputs": [
    {
     "name": "stdout",
     "output_type": "stream",
     "text": [
      "[1, 3.5, 1.2, 2, 10, 6]\n",
      "[1, 'one', 4, 'five']\n",
      "[[1, 3.5, 1.2, 2, 10, 6], [1, 'one', 4, 'five']]\n"
     ]
    }
   ],
   "source": [
    "num_list = [1, 3.5, 1.2, 2, 10, 6]\n",
    "print(num_list)\n",
    "\n",
    "num_str_list = [1, \"one\", 4, \"five\"]\n",
    "print(num_str_list)\n",
    "\n",
    "nested_list = [num_list, num_str_list]\n",
    "print(nested_list)"
   ]
  },
  {
   "cell_type": "code",
   "execution_count": 2,
   "id": "2aaf3a83",
   "metadata": {},
   "outputs": [
    {
     "name": "stdout",
     "output_type": "stream",
     "text": [
      "The number of items in [1, 3.5, 1.2, 2, 10, 6] is 6\n"
     ]
    }
   ],
   "source": [
    "print(f\"The number of items in {num_list} is {len(num_list)}\")"
   ]
  },
  {
   "cell_type": "markdown",
   "id": "0393d4d6",
   "metadata": {},
   "source": [
    "### List Indexing"
   ]
  },
  {
   "cell_type": "code",
   "execution_count": 3,
   "id": "17518618",
   "metadata": {},
   "outputs": [
    {
     "name": "stdout",
     "output_type": "stream",
     "text": [
      "['a', 'b', 'c', 'd'] has length 4\n",
      "The 0 index element is: a\n",
      "The 1 index element is: b\n",
      "The 2 index element is: c\n",
      "The 3 index element is: d\n"
     ]
    }
   ],
   "source": [
    "sample_list = [\"a\", \"b\", \"c\", \"d\"]\n",
    "print(f\"{sample_list} has length {len(sample_list)}\")\n",
    "print(f\"The 0 index element is: {sample_list[0]}\")\n",
    "print(f\"The 1 index element is: {sample_list[1]}\")\n",
    "print(f\"The 2 index element is: {sample_list[2]}\")\n",
    "print(f\"The 3 index element is: {sample_list[3]}\")"
   ]
  },
  {
   "cell_type": "code",
   "execution_count": 4,
   "id": "d22c19f4",
   "metadata": {},
   "outputs": [
    {
     "name": "stdout",
     "output_type": "stream",
     "text": [
      "['a', 'b', 'c', 'd'] has length 4\n",
      "The -1 index element is: d\n",
      "The -2 index element is: c\n",
      "The -3 index element is: b\n",
      "The -4 index element is: a\n"
     ]
    }
   ],
   "source": [
    "print(f\"{sample_list} has length {len(sample_list)}\")\n",
    "print(f\"The -1 index element is: {sample_list[-1]}\")\n",
    "print(f\"The -2 index element is: {sample_list[-2]}\")\n",
    "print(f\"The -3 index element is: {sample_list[-3]}\")\n",
    "print(f\"The -4 index element is: {sample_list[-4]}\")\n",
    "## staring index begin with 0 and ending indx begin with -1."
   ]
  },
  {
   "cell_type": "markdown",
   "id": "08dfe6db",
   "metadata": {},
   "source": [
    "### List Slicing"
   ]
  },
  {
   "cell_type": "code",
   "execution_count": 5,
   "id": "c3d7c252",
   "metadata": {},
   "outputs": [
    {
     "name": "stdout",
     "output_type": "stream",
     "text": [
      "sample_list = ['a', 'b', 'c', 'd'] \n",
      "\n",
      "sample_list[1:4] = ['b', 'c', 'd'] \n",
      "\n"
     ]
    }
   ],
   "source": [
    "print(f\"sample_list = {sample_list} \\n\")\n",
    "print(f\"sample_list[1:4] = {sample_list[1:4]} \\n\")"
   ]
  },
  {
   "cell_type": "code",
   "execution_count": 6,
   "id": "f66fb04a",
   "metadata": {},
   "outputs": [
    {
     "data": {
      "text/plain": [
       "['a', 'b', 'c', 'd']"
      ]
     },
     "execution_count": 6,
     "metadata": {},
     "output_type": "execute_result"
    }
   ],
   "source": [
    "sample_list"
   ]
  },
  {
   "cell_type": "code",
   "execution_count": 7,
   "id": "f5141c8b",
   "metadata": {},
   "outputs": [
    {
     "data": {
      "text/plain": [
       "['a', 'b', 'c']"
      ]
     },
     "execution_count": 7,
     "metadata": {},
     "output_type": "execute_result"
    }
   ],
   "source": [
    "sample_list[:3]"
   ]
  },
  {
   "cell_type": "markdown",
   "id": "97ecf167",
   "metadata": {},
   "source": [
    "#### Functions: sum(), max(), min()"
   ]
  },
  {
   "cell_type": "code",
   "execution_count": 8,
   "id": "00c8220a",
   "metadata": {},
   "outputs": [
    {
     "name": "stdout",
     "output_type": "stream",
     "text": [
      "sample_list = [10, 12, 2, 1.5, 0.25, 6, 8] \n",
      "\n",
      "-------------------------------------------- \n",
      "\n",
      "The sum of numbers in sample_list = 39.75 \n",
      "\n",
      "The maximum of elements in sample_list = 12 \n",
      "\n",
      "The minimum of elements in sample_list  = 0.25 \n",
      "\n",
      "-------------------------------------------- \n",
      "\n"
     ]
    }
   ],
   "source": [
    "sample_list = [10, 12, 2, 1.5, .25, 6, 8]\n",
    "\n",
    "title = f\"sample_list = {sample_list} \\n\"\n",
    "\n",
    "print(title)\n",
    "print(\"-\"*len(title), \"\\n\")\n",
    "\n",
    "print(f\"The sum of numbers in sample_list = {sum(sample_list)} \\n\")\n",
    "print(f\"The maximum of elements in sample_list = {max(sample_list)} \\n\")\n",
    "print(f\"The minimum of elements in sample_list  = {min(sample_list)} \\n\")\n",
    "\n",
    "print(\"-\"*len(title), \"\\n\")"
   ]
  },
  {
   "cell_type": "markdown",
   "id": "8bdabbd4",
   "metadata": {},
   "source": [
    "print(\"-\"*len(title), \"\\n\") produce a split line having the same length as the title.\n",
    "\n",
    "#### Mean Computation"
   ]
  },
  {
   "cell_type": "code",
   "execution_count": 9,
   "id": "e5ac9d46",
   "metadata": {},
   "outputs": [
    {
     "name": "stdout",
     "output_type": "stream",
     "text": [
      "The mean of sample_list = 5.678571428571429\n"
     ]
    }
   ],
   "source": [
    "print(f\"The mean of sample_list = {sum(sample_list)/len(sample_list)}\")"
   ]
  },
  {
   "cell_type": "code",
   "execution_count": 10,
   "id": "48329686",
   "metadata": {},
   "outputs": [
    {
     "data": {
      "text/plain": [
       "5.678571428571429"
      ]
     },
     "execution_count": 10,
     "metadata": {},
     "output_type": "execute_result"
    }
   ],
   "source": [
    "sum(sample_list)/len(sample_list)"
   ]
  },
  {
   "cell_type": "markdown",
   "id": "f89474d3",
   "metadata": {},
   "source": [
    "### List Methods\n",
    "#### append(): modify current list"
   ]
  },
  {
   "cell_type": "code",
   "execution_count": 11,
   "id": "05b21462",
   "metadata": {},
   "outputs": [
    {
     "name": "stdout",
     "output_type": "stream",
     "text": [
      "sample_list before applying the append method: [10, 2, 9, 7] \n",
      "\n",
      "sample_list after applying the append method: [10, 2, 9, 7, 'apple'] \n",
      "\n"
     ]
    }
   ],
   "source": [
    "sample_list = [10, 2, 9, 7]\n",
    "print(f\"sample_list before applying the append method: {sample_list} \\n\")\n",
    "sample_list.append(\"apple\")\n",
    "print(f\"sample_list after applying the append method: {sample_list} \\n\")"
   ]
  },
  {
   "cell_type": "code",
   "execution_count": 12,
   "id": "176cded2",
   "metadata": {},
   "outputs": [
    {
     "name": "stdout",
     "output_type": "stream",
     "text": [
      "x before applying the append method: [10, 2, 9, 7] \n",
      "\n",
      "x after applying the append method: None \n",
      "\n"
     ]
    }
   ],
   "source": [
    "x = [10, 2, 9, 7]\n",
    "print(f\"x before applying the append method: {x} \\n\")\n",
    "x = x.append(\"apple\")\n",
    "print(f\"x after applying the append method: {x} \\n\")\n",
    "## call the method itself return \"None\" x.append()\n",
    "## the method manipulate the original list x"
   ]
  },
  {
   "cell_type": "code",
   "execution_count": 13,
   "id": "75234380",
   "metadata": {},
   "outputs": [
    {
     "name": "stdout",
     "output_type": "stream",
     "text": [
      "x before applying the append method: [10, 2, 9, 7] \n",
      "\n",
      "x after applying the append method ON y: [10, 2, 9, 7, 'apple'] \n",
      "\n"
     ]
    }
   ],
   "source": [
    "x = [10, 2, 9, 7]\n",
    "y = x\n",
    "print(f\"x before applying the append method: {x} \\n\")\n",
    "y.append(\"apple\")\n",
    "print(f\"x after applying the append method ON y: {x} \\n\")\n",
    "## assign a new variable to a list != make a copy of list\n",
    "## assign a new variable to a list  = give the list an additional name"
   ]
  },
  {
   "cell_type": "code",
   "execution_count": 14,
   "id": "19035b9e",
   "metadata": {},
   "outputs": [
    {
     "data": {
      "text/plain": [
       "[10, 2, 9, 7, 'apple']"
      ]
     },
     "execution_count": 14,
     "metadata": {},
     "output_type": "execute_result"
    }
   ],
   "source": [
    "y"
   ]
  },
  {
   "cell_type": "markdown",
   "id": "0467f154",
   "metadata": {},
   "source": [
    "#### sort(): modify current list (asc/desc)"
   ]
  },
  {
   "cell_type": "code",
   "execution_count": 15,
   "id": "113e866b",
   "metadata": {},
   "outputs": [
    {
     "name": "stdout",
     "output_type": "stream",
     "text": [
      "sample_list before applying the sort method: [10, 2, 9, 7] \n",
      "\n",
      "sample_list after applying the sort method: [2, 7, 9, 10] \n",
      "\n"
     ]
    }
   ],
   "source": [
    "sample_list = [10, 2, 9, 7]\n",
    "print(f\"sample_list before applying the sort method: {sample_list} \\n\")\n",
    "sample_list.sort()\n",
    "print(f\"sample_list after applying the sort method: {sample_list} \\n\")"
   ]
  },
  {
   "cell_type": "code",
   "execution_count": 16,
   "id": "de176195",
   "metadata": {},
   "outputs": [
    {
     "name": "stdout",
     "output_type": "stream",
     "text": [
      "Help on built-in function sort:\n",
      "\n",
      "sort(*, key=None, reverse=False) method of builtins.list instance\n",
      "    Sort the list in ascending order and return None.\n",
      "    \n",
      "    The sort is in-place (i.e. the list itself is modified) and stable (i.e. the\n",
      "    order of two equal elements is maintained).\n",
      "    \n",
      "    If a key function is given, apply it once to each list item and sort them,\n",
      "    ascending or descending, according to their function values.\n",
      "    \n",
      "    The reverse flag can be set to sort in descending order.\n",
      "\n"
     ]
    }
   ],
   "source": [
    "sample_list = [10, 2, 9, 7]\n",
    "help(sample_list.sort)"
   ]
  },
  {
   "cell_type": "markdown",
   "id": "22d3c6c2",
   "metadata": {},
   "source": [
    "sample_list = [10, 2, 9, 7]\n",
    "print(f\"sample_list before applying the sort method: {sample_list} \\n\")\n",
    "sample_list.sort(reverse = True)\n",
    "print(f\"sample_list after applying the sort method (with reverse = True): {sample_list} \\n\")"
   ]
  },
  {
   "cell_type": "markdown",
   "id": "d7f45abf",
   "metadata": {},
   "source": [
    "#### extend(): modify current list"
   ]
  },
  {
   "cell_type": "code",
   "execution_count": 17,
   "id": "11d59b7f",
   "metadata": {},
   "outputs": [
    {
     "name": "stdout",
     "output_type": "stream",
     "text": [
      "[1, 2, 3, 4, 5, 'a', 'b', 'c', 'd']\n"
     ]
    }
   ],
   "source": [
    "a = [1, 2, 3, 4, 5]\n",
    "b = [\"a\", \"b\", \"c\", \"d\"]\n",
    "\n",
    "a.extend(b)\n",
    "print(a)"
   ]
  },
  {
   "cell_type": "markdown",
   "id": "575519b2",
   "metadata": {},
   "source": [
    "#### Probability Computation"
   ]
  },
  {
   "cell_type": "code",
   "execution_count": 18,
   "id": "ed8e6059",
   "metadata": {},
   "outputs": [
    {
     "name": "stdout",
     "output_type": "stream",
     "text": [
      "P(apple) = 0.5\n"
     ]
    }
   ],
   "source": [
    "sample_space = [\"apple\", \"banana\", \"apple\", \"blueberry\", \"lime\", \"apple\"]\n",
    "number_of_apples = sample_space.count(\"apple\")\n",
    "\n",
    "print(f\"P(apple) = {number_of_apples/len(sample_space)}\")"
   ]
  },
  {
   "cell_type": "markdown",
   "id": "aac22f00",
   "metadata": {},
   "source": [
    "## Tuples\n",
    "Note:\n",
    "1. Tuples are defined in ().\n",
    "2. Tuples are immutable."
   ]
  },
  {
   "cell_type": "code",
   "execution_count": 19,
   "id": "5c7c7125",
   "metadata": {},
   "outputs": [
    {
     "name": "stdout",
     "output_type": "stream",
     "text": [
      "a = (1, 2, 3, 4, 5)\n",
      "len(a) = 5\n",
      "sum(a) = 15\n",
      "min(a) = 1\n",
      "max(a) = 5 \n",
      "\n",
      "b = ('a', 'b', 'c', 'd')\n",
      "b[0] = a\n",
      "b[-1] = d\n",
      "b[1:4] = ('b', 'c', 'd')\n"
     ]
    }
   ],
   "source": [
    "a = (1, 2, 3, 4, 5)\n",
    "b = (\"a\", \"b\", \"c\", \"d\")\n",
    "\n",
    "print(f\"a = {a}\")\n",
    "print(f\"len(a) = {len(a)}\")\n",
    "print(f\"sum(a) = {sum(a)}\")\n",
    "print(f\"min(a) = {min(a)}\")\n",
    "print(f\"max(a) = {max(a)} \\n\")\n",
    "\n",
    "print(f\"b = {b}\")\n",
    "print(f\"b[0] = {b[0]}\")\n",
    "print(f\"b[-1] = {b[-1]}\")\n",
    "print(f\"b[1:4] = {b[1:4]}\")"
   ]
  },
  {
   "cell_type": "markdown",
   "id": "72d79443",
   "metadata": {},
   "source": [
    "## Sets\n",
    "Note：\n",
    "1. Sets are unordered. (Lists and Tuples are ordered.)\n",
    "2. Set elements are not allowed duplicates.\n",
    "3. Set may be modified, Set elements must be immutable type."
   ]
  },
  {
   "cell_type": "code",
   "execution_count": 20,
   "id": "2a7c092f",
   "metadata": {},
   "outputs": [
    {
     "name": "stdout",
     "output_type": "stream",
     "text": [
      "set_one = {'a', 'c', 'b', 'd'}\n",
      "set_two = {'d', 'e', 'c'}\n"
     ]
    }
   ],
   "source": [
    "set_one = {\"a\", \"b\", \"c\", \"d\"}\n",
    "set_two = set([\"c\", \"d\", \"e\"])\n",
    "\n",
    "print(f\"set_one = {set_one}\")\n",
    "print(f\"set_two = {set_two}\")"
   ]
  },
  {
   "cell_type": "code",
   "execution_count": 21,
   "id": "83b4dd83",
   "metadata": {},
   "outputs": [
    {
     "name": "stdout",
     "output_type": "stream",
     "text": [
      "x = {'a', 'c', 'b', 'd'}\n"
     ]
    }
   ],
   "source": [
    "x = {\"a\", \"a\", \"b\", \"c\", \"c\", \"d\"}\n",
    "print(f\"x = {x}\")"
   ]
  },
  {
   "cell_type": "markdown",
   "id": "99dc8d1e",
   "metadata": {},
   "source": [
    "Set elements' uniqueness can be used to remove duplicates from some data."
   ]
  },
  {
   "cell_type": "code",
   "execution_count": 22,
   "id": "775623c7",
   "metadata": {},
   "outputs": [
    {
     "name": "stdout",
     "output_type": "stream",
     "text": [
      "data = [100, 90, 100, 30, 30, 40, 30]\n",
      "unique data entries = [40, 90, 100, 30]\n"
     ]
    }
   ],
   "source": [
    "data = [100, 90, 100, 30, 30, 40, 30]\n",
    "print(f\"data = {data}\")\n",
    "print(f\"unique data entries = {list(set(data))}\")"
   ]
  },
  {
   "cell_type": "markdown",
   "id": "36ded62c",
   "metadata": {},
   "source": [
    "### Set Operations\n",
    "1. Union\n",
    "2. Intersection\n",
    "3. Setdifference: all elements in A not in B\n",
    "4. Symmetric Difference: all elements of A and B not in their intersection"
   ]
  },
  {
   "cell_type": "code",
   "execution_count": 23,
   "id": "8114215b",
   "metadata": {},
   "outputs": [
    {
     "name": "stdout",
     "output_type": "stream",
     "text": [
      "A = {'a', 'd', 'e', 'b', 'c'}\n",
      "B = {'d', 'e', 'f', 'g', 'c'} \n",
      "\n",
      "---------------- Set Operators ---------------- \n",
      "\n",
      "Set Union: A or B = {'a', 'e', 'b', 'f', 'g', 'c', 'd'} \n",
      "\n",
      "Set Intersection: A and B = {'c', 'e', 'd'} \n",
      "\n",
      "Set Difference: A - B = {'a', 'b'} \n",
      "\n",
      "Set Symmetric Difference: A (+) B = {'a', 'f', 'b', 'g'} \n",
      "\n"
     ]
    }
   ],
   "source": [
    "A = {\"a\", \"b\", \"c\", \"d\", \"e\"}\n",
    "B = {\"c\", \"d\", \"e\", \"f\", \"g\"}\n",
    "\n",
    "print(f\"A = {A}\")\n",
    "print(f\"B = {B} \\n\")\n",
    "print(\"---------------- Set Operators ---------------- \\n\")\n",
    "print(f\"Set Union: A or B = {A.union(B)} \\n\")\n",
    "print(f\"Set Intersection: A and B = {A.intersection(B)} \\n\")\n",
    "print(f\"Set Difference: A - B = {A.difference(B)} \\n\")\n",
    "print(f\"Set Symmetric Difference: A (+) B = {A.symmetric_difference(B)} \\n\")"
   ]
  }
 ],
 "metadata": {
  "kernelspec": {
   "display_name": "Python 3 (ipykernel)",
   "language": "python",
   "name": "python3"
  },
  "language_info": {
   "codemirror_mode": {
    "name": "ipython",
    "version": 3
   },
   "file_extension": ".py",
   "mimetype": "text/x-python",
   "name": "python",
   "nbconvert_exporter": "python",
   "pygments_lexer": "ipython3",
   "version": "3.9.13"
  }
 },
 "nbformat": 4,
 "nbformat_minor": 5
}

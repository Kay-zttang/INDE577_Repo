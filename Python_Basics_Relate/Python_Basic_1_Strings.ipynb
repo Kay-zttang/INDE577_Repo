{
 "cells": [
  {
   "cell_type": "markdown",
   "id": "078b0f39",
   "metadata": {},
   "source": [
    "## Basic 1: Strings"
   ]
  },
  {
   "cell_type": "markdown",
   "id": "1ad60851",
   "metadata": {},
   "source": [
    "Notes:\n",
    "1. Stick with \"\" or ''.\n",
    "2. Variable names begin with a non-numerical value and remain lower case."
   ]
  },
  {
   "cell_type": "code",
   "execution_count": 1,
   "id": "ba7587c9",
   "metadata": {},
   "outputs": [],
   "source": [
    "first_name = \"Ziting\"\n",
    "last_name = \"Tang\""
   ]
  },
  {
   "cell_type": "code",
   "execution_count": 2,
   "id": "0bd479e8",
   "metadata": {},
   "outputs": [
    {
     "name": "stdout",
     "output_type": "stream",
     "text": [
      "Ziting\n",
      "Tang\n"
     ]
    }
   ],
   "source": [
    "print(first_name)\n",
    "print(last_name)"
   ]
  },
  {
   "cell_type": "code",
   "execution_count": 3,
   "id": "1d20a7d5",
   "metadata": {},
   "outputs": [
    {
     "name": "stdout",
     "output_type": "stream",
     "text": [
      "Ziting \n",
      "\n",
      "Tang\n"
     ]
    }
   ],
   "source": [
    "print(first_name, \"\\n\")\n",
    "print(last_name)"
   ]
  },
  {
   "cell_type": "code",
   "execution_count": 4,
   "id": "c59951f0",
   "metadata": {},
   "outputs": [
    {
     "data": {
      "text/plain": [
       "'ZitingTang'"
      ]
     },
     "execution_count": 4,
     "metadata": {},
     "output_type": "execute_result"
    }
   ],
   "source": [
    "first_name + last_name"
   ]
  },
  {
   "cell_type": "code",
   "execution_count": 5,
   "id": "11488591",
   "metadata": {},
   "outputs": [
    {
     "data": {
      "text/plain": [
       "'Ziting Tang'"
      ]
     },
     "execution_count": 5,
     "metadata": {},
     "output_type": "execute_result"
    }
   ],
   "source": [
    "first_name + \" \" + last_name"
   ]
  },
  {
   "cell_type": "code",
   "execution_count": 6,
   "id": "a13ae5b9",
   "metadata": {},
   "outputs": [
    {
     "data": {
      "text/plain": [
       "'Ziting Tang is 24 years old'"
      ]
     },
     "execution_count": 6,
     "metadata": {},
     "output_type": "execute_result"
    }
   ],
   "source": [
    "age = 24\n",
    "\n",
    "# String interpolation: f-strings\n",
    "f\"{first_name} {last_name} is {age} years old\""
   ]
  },
  {
   "cell_type": "markdown",
   "id": "c74410f7",
   "metadata": {},
   "source": [
    "### Objects\n",
    "\n",
    "#### Attributes and Methods Access\n",
    "* object.attribute\n",
    "* object.method()\n",
    "\n",
    "#### Commonly used Methods\n",
    "* capitalize()\n",
    "* title()\n",
    "* count()\n",
    "* find()"
   ]
  },
  {
   "cell_type": "code",
   "execution_count": 7,
   "id": "e34435d2",
   "metadata": {},
   "outputs": [
    {
     "data": {
      "text/plain": [
       "'Hello World'"
      ]
     },
     "execution_count": 7,
     "metadata": {},
     "output_type": "execute_result"
    }
   ],
   "source": [
    "test_string = \"hello world\"\n",
    "test_string.title()"
   ]
  },
  {
   "cell_type": "code",
   "execution_count": 8,
   "id": "71f7eb1d",
   "metadata": {},
   "outputs": [
    {
     "data": {
      "text/plain": [
       "'Hello world'"
      ]
     },
     "execution_count": 8,
     "metadata": {},
     "output_type": "execute_result"
    }
   ],
   "source": [
    "test_string.capitalize()"
   ]
  },
  {
   "cell_type": "markdown",
   "id": "adbee8d9",
   "metadata": {},
   "source": [
    "**test_string.count()**\n",
    "\n",
    "    \n",
    "**Problem:** \n",
    "\n",
    "method count() needs parameter(s)\n",
    "\n",
    "**Result:**\n",
    "\n",
    "TypeError                                 Traceback (most recent call last)\n",
    "~\\AppData\\Local\\Temp\\ipykernel_44000\\3609642088.py in <module>\n",
    "----> 1 test_string.count()\n",
    "      2 # problem: method count() needs parameter(s)\n",
    "\n",
    "TypeError: count() takes at least 1 argument (0 given)"
   ]
  },
  {
   "cell_type": "code",
   "execution_count": 9,
   "id": "551716c3",
   "metadata": {},
   "outputs": [
    {
     "name": "stdout",
     "output_type": "stream",
     "text": [
      "Help on built-in function count:\n",
      "\n",
      "count(...) method of builtins.str instance\n",
      "    S.count(sub[, start[, end]]) -> int\n",
      "    \n",
      "    Return the number of non-overlapping occurrences of substring sub in\n",
      "    string S[start:end].  Optional arguments start and end are\n",
      "    interpreted as in slice notation.\n",
      "\n"
     ]
    }
   ],
   "source": [
    "help(test_string.count)"
   ]
  },
  {
   "cell_type": "code",
   "execution_count": 10,
   "id": "1585003c",
   "metadata": {},
   "outputs": [
    {
     "name": "stdout",
     "output_type": "stream",
     "text": [
      "hello world \n",
      "\n"
     ]
    },
    {
     "data": {
      "text/plain": [
       "3"
      ]
     },
     "execution_count": 10,
     "metadata": {},
     "output_type": "execute_result"
    }
   ],
   "source": [
    "print(test_string, \"\\n\")\n",
    "test_string.count(\"l\")"
   ]
  },
  {
   "cell_type": "code",
   "execution_count": 11,
   "id": "6da3a8e7",
   "metadata": {},
   "outputs": [
    {
     "name": "stdout",
     "output_type": "stream",
     "text": [
      "hello world \n",
      "\n"
     ]
    },
    {
     "data": {
      "text/plain": [
       "2"
      ]
     },
     "execution_count": 11,
     "metadata": {},
     "output_type": "execute_result"
    }
   ],
   "source": [
    "print(test_string, \"\\n\")\n",
    "test_string.count(\"o\")"
   ]
  },
  {
   "cell_type": "code",
   "execution_count": 12,
   "id": "91fda9e5",
   "metadata": {},
   "outputs": [
    {
     "name": "stdout",
     "output_type": "stream",
     "text": [
      "I like apples\n"
     ]
    }
   ],
   "source": [
    "txt = \"I like bananas\"\n",
    "x = txt.replace(\"bananas\", \"apples\")\n",
    "print(x)"
   ]
  },
  {
   "cell_type": "markdown",
   "id": "b361b814",
   "metadata": {},
   "source": [
    "#### Strings are Sequences of Characters"
   ]
  },
  {
   "cell_type": "code",
   "execution_count": 13,
   "id": "7192668c",
   "metadata": {},
   "outputs": [
    {
     "name": "stdout",
     "output_type": "stream",
     "text": [
      "Ziting Tang contains 11 characters\n"
     ]
    }
   ],
   "source": [
    "full_name = first_name + \" \" + last_name\n",
    "print(f\"{full_name} contains {len(full_name)} characters\")"
   ]
  },
  {
   "cell_type": "markdown",
   "id": "7f337c8d",
   "metadata": {},
   "source": [
    "#### String Indexing"
   ]
  },
  {
   "cell_type": "code",
   "execution_count": 14,
   "id": "09552613",
   "metadata": {},
   "outputs": [
    {
     "name": "stdout",
     "output_type": "stream",
     "text": [
      "The chracter at the 0 index of abcdefg is a \n",
      "\n",
      "The chracter at the 1 index of abcdefg is b \n",
      "\n",
      "The chracter at the 2 index of abcdefg is c \n",
      "\n"
     ]
    }
   ],
   "source": [
    "test_string = \"abcdefg\"\n",
    "print(f\"The chracter at the 0 index of {test_string} is {test_string[0]} \\n\")\n",
    "print(f\"The chracter at the 1 index of {test_string} is {test_string[1]} \\n\")\n",
    "print(f\"The chracter at the 2 index of {test_string} is {test_string[2]} \\n\")"
   ]
  },
  {
   "cell_type": "code",
   "execution_count": 15,
   "id": "154198c3",
   "metadata": {},
   "outputs": [
    {
     "name": "stdout",
     "output_type": "stream",
     "text": [
      "The character at the -1 index of abcdefg is g \n",
      "\n",
      "The character at the -2 index of abcdefg is f \n",
      "\n",
      "The character at the -3 index of abcdefg is e \n",
      "\n"
     ]
    }
   ],
   "source": [
    "test_string = \"abcdefg\"\n",
    "print(f\"The character at the -1 index of {test_string} is {test_string[-1]} \\n\")\n",
    "print(f\"The character at the -2 index of {test_string} is {test_string[-2]} \\n\")\n",
    "print(f\"The character at the -3 index of {test_string} is {test_string[-3]} \\n\")\n",
    "#### index count from the begining using 0,1,2,...\n",
    "#### index count from the end using -1,-2,-3,..."
   ]
  },
  {
   "cell_type": "markdown",
   "id": "8ceb7638",
   "metadata": {},
   "source": [
    "#### String Slicing"
   ]
  },
  {
   "cell_type": "code",
   "execution_count": 16,
   "id": "afd96afd",
   "metadata": {},
   "outputs": [
    {
     "name": "stdout",
     "output_type": "stream",
     "text": [
      "abcdefg\n",
      "b\n",
      "c\n",
      "d\n",
      "bcd\n",
      "cdefg\n"
     ]
    }
   ],
   "source": [
    "print(test_string)\n",
    "print(test_string[1])\n",
    "print(test_string[2])\n",
    "print(test_string[3])\n",
    "print(test_string[1:4])\n",
    "print(test_string[2:7])"
   ]
  }
 ],
 "metadata": {
  "kernelspec": {
   "display_name": "Python 3 (ipykernel)",
   "language": "python",
   "name": "python3"
  },
  "language_info": {
   "codemirror_mode": {
    "name": "ipython",
    "version": 3
   },
   "file_extension": ".py",
   "mimetype": "text/x-python",
   "name": "python",
   "nbconvert_exporter": "python",
   "pygments_lexer": "ipython3",
   "version": "3.9.13"
  }
 },
 "nbformat": 4,
 "nbformat_minor": 5
}

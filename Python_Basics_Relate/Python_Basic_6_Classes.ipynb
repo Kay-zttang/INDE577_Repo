{
 "cells": [
  {
   "cell_type": "markdown",
   "id": "bf44b139",
   "metadata": {},
   "source": [
    "## Classes\n",
    "\n",
    "Sample Questions: Polynomial functions P(x): $P(x) = 2x^3 - 3x +1$\n",
    "- Represent as a simple list\n",
    "    "
   ]
  },
  {
   "cell_type": "code",
   "execution_count": 1,
   "id": "3f5afb44",
   "metadata": {},
   "outputs": [
    {
     "name": "stdout",
     "output_type": "stream",
     "text": [
      "degree = 3\n"
     ]
    }
   ],
   "source": [
    "poly = [2, 0, -3, 1]\n",
    "\n",
    "degree = len(poly) - 1\n",
    "\n",
    "print(f\"{degree = }\")"
   ]
  },
  {
   "cell_type": "markdown",
   "id": "f70f7bc3",
   "metadata": {},
   "source": [
    "- Defining a Class: group data and functions into a single customized type."
   ]
  },
  {
   "cell_type": "code",
   "execution_count": 2,
   "id": "e0826c6f",
   "metadata": {},
   "outputs": [],
   "source": [
    "# Create custom Polynomial object\n",
    "class Polynomial(object):\n",
    "    # Call the __init__ function which initializes the attributes of the object \n",
    "    def __init__(self, coef):\n",
    "        self.coef = coef\n",
    "    # define a degree method\n",
    "    def degree(self):\n",
    "        degree = len(self.coef) - 1\n",
    "        return degree"
   ]
  },
  {
   "cell_type": "code",
   "execution_count": 3,
   "id": "5aa210bc",
   "metadata": {},
   "outputs": [
    {
     "name": "stdout",
     "output_type": "stream",
     "text": [
      "<__main__.Polynomial object at 0x000001E8B589A910>\n",
      "p has coefficients [2, 0, -3, 1]\n",
      "p is of degree 3\n"
     ]
    }
   ],
   "source": [
    "p = Polynomial([2, 0, -3, 1])\n",
    "\n",
    "print(p)\n",
    "print(f\"p has coefficients {p.coef}\") \n",
    "print(f\"p is of degree {p.degree()}\")"
   ]
  },
  {
   "cell_type": "code",
   "execution_count": 4,
   "id": "ed5a15f4",
   "metadata": {},
   "outputs": [
    {
     "name": "stdout",
     "output_type": "stream",
     "text": [
      "<__main__.Polynomial object at 0x000001E8B589AC70>\n",
      "p has coefficients q.coef = [1, 0, -1]\n",
      "p is of degree q.degree() = 2\n"
     ]
    }
   ],
   "source": [
    "q = Polynomial([1, 0, -1])\n",
    "\n",
    "print(q)\n",
    "print(f\"p has coefficients {q.coef = }\") \n",
    "print(f\"p is of degree {q.degree() = }\")"
   ]
  },
  {
   "cell_type": "markdown",
   "id": "0e9245c0",
   "metadata": {},
   "source": [
    "- Add String() method to the Polynomial Class."
   ]
  },
  {
   "cell_type": "code",
   "execution_count": 5,
   "id": "3cc4da5a",
   "metadata": {},
   "outputs": [
    {
     "name": "stdout",
     "output_type": "stream",
     "text": [
      "<__main__.Polynomial object at 0x000001E8B589AB80>\n",
      "p(x) = 2x^3 - 3x + 1\n",
      "p has coefficients [2, 0, -3, 1] \n",
      "\n",
      "2x^30x^2-3x^11x^0\n"
     ]
    }
   ],
   "source": [
    "p = Polynomial([2, 0, -3, 1])\n",
    "\n",
    "print(p)\n",
    "print(\"p(x) = 2x^3 - 3x + 1\")\n",
    "print(f\"p has coefficients {p.coef} \\n\")\n",
    "\n",
    "degree = p.degree()\n",
    "p_string = \"\"\n",
    "for i, a in enumerate(p.coef):\n",
    "    p_string += f\"{a}x^{degree - i}\"\n",
    "print(p_string)"
   ]
  },
  {
   "cell_type": "code",
   "execution_count": 6,
   "id": "f68398ca",
   "metadata": {},
   "outputs": [
    {
     "name": "stdout",
     "output_type": "stream",
     "text": [
      "<__main__.Polynomial object at 0x000001E8B58F3460>\n",
      "p(x) = 2x^3 - 3x + 1\n",
      "p(x) = 2x^3 + 0x^2 + -3x^1 + 1x^0 \n"
     ]
    }
   ],
   "source": [
    "p = Polynomial([2, 0, -3, 1])\n",
    "\n",
    "print(p)\n",
    "print(\"p(x) = 2x^3 - 3x + 1\")\n",
    "\n",
    "degree = p.degree()\n",
    "p_string = \"\"\n",
    "for i, a in enumerate(p.coef):\n",
    "    p_string += f\"{a}x^{degree - i} + \"\n",
    "print(f\"p(x) = {p_string[:-2]}\")"
   ]
  },
  {
   "cell_type": "code",
   "execution_count": 7,
   "id": "9d2a38bf",
   "metadata": {},
   "outputs": [
    {
     "name": "stdout",
     "output_type": "stream",
     "text": [
      "<__main__.Polynomial object at 0x000001E8B58F6CA0>\n",
      "p(x) = 2x^3 - 3x + 1\n",
      "p(x) = 2x^3 + 0x^2 + -3x^1 + 1x^0 \n"
     ]
    }
   ],
   "source": [
    "# Create custom Polynomial object\n",
    "class Polynomial(object):\n",
    "    # Call the __init__ function which initializes the attributes of the object \n",
    "    def __init__(self, coef):\n",
    "        self.coef = coef # Does not need to have the same name\n",
    "    # Define a degree method\n",
    "    def degree(self):\n",
    "        degree = len(self.coef) - 1 \n",
    "        return degree\n",
    "    # Define a string method\n",
    "    def string(self):\n",
    "        degree = self.degree()\n",
    "        string = \"\"\n",
    "        for i, a in enumerate(self.coef):\n",
    "            string += f\"{a}x^{degree - i} + \"\n",
    "        return string[:-2] \n",
    "    \n",
    "    # Instantiate instance of the Polynomial class\n",
    "p = Polynomial([2, 0, -3, 1])\n",
    "\n",
    "print(p)\n",
    "print(\"p(x) = 2x^3 - 3x + 1\")\n",
    "\n",
    "print(f\"p(x) = {p.string()}\")"
   ]
  },
  {
   "cell_type": "markdown",
   "id": "7ab7cbcf",
   "metadata": {},
   "source": [
    "- Replace string() by dunder methods _ repr _ :\n",
    "\n",
    "    The string may appear when call the object."
   ]
  },
  {
   "cell_type": "code",
   "execution_count": 8,
   "id": "3b49770d",
   "metadata": {},
   "outputs": [
    {
     "name": "stdout",
     "output_type": "stream",
     "text": [
      "p(x) = 2x^3 - 3x + 1\n",
      "p(x) = 2x^3 + 0x^2 + -3x^1 + 1x^0 \n"
     ]
    }
   ],
   "source": [
    "# Create custom Polynomial object\n",
    "class Polynomial(object):\n",
    "    # Call the __init__ function which initializes the attributes of the object \n",
    "    def __init__(self, coef):\n",
    "        self.coef = coef # Does not need to have the same name\n",
    "\n",
    "    # Define a degree method\n",
    "    def degree(self):\n",
    "        degree = len(self.coef) - 1 \n",
    "        return degree\n",
    "\n",
    "    # Define the __repr__() method\n",
    "    def __repr__(self):\n",
    "        degree = self.degree()\n",
    "        string = \"\"\n",
    "        for i, a in enumerate(self.coef):\n",
    "            string += f\"{a}x^{degree - i} + \"\n",
    "        return string[:-2] \n",
    "\n",
    "\n",
    "# Instantiate instance of the Polynomial class\n",
    "p = Polynomial([2, 0, -3, 1])\n",
    "\n",
    "print(\"p(x) = 2x^3 - 3x + 1\")\n",
    "print(f\"p(x) = {p}\")"
   ]
  },
  {
   "cell_type": "code",
   "execution_count": 9,
   "id": "a8ace815",
   "metadata": {},
   "outputs": [
    {
     "data": {
      "text/plain": [
       "2x^3 + 0x^2 + -3x^1 + 1x^0 "
      ]
     },
     "execution_count": 9,
     "metadata": {},
     "output_type": "execute_result"
    }
   ],
   "source": [
    "p"
   ]
  },
  {
   "cell_type": "markdown",
   "id": "6a6ada3f",
   "metadata": {},
   "source": [
    "- Add Evaluate() method to the Polynomial Class."
   ]
  },
  {
   "cell_type": "code",
   "execution_count": 10,
   "id": "ae6c4fe0",
   "metadata": {},
   "outputs": [
    {
     "name": "stdout",
     "output_type": "stream",
     "text": [
      "2x^3 + 0x^2 + -3x^1 + 1x^0 \n",
      "p(x) = 2x^3 - 3x + 1\n",
      "p(x) = 2x^3 + 0x^2 + -3x^1 + 1x^0 \n",
      "p(3) = 46\n"
     ]
    }
   ],
   "source": [
    "# Create custom Polynomial object\n",
    "class Polynomial(object):\n",
    "    # Call the __init__ function which initializes the attributes of the object \n",
    "    def __init__(self, coef):\n",
    "        self.coef = coef # Does not need to have the same name\n",
    "    # Define a degree method\n",
    "    def degree(self):\n",
    "        degree = len(self.coef) - 1 \n",
    "        return degree\n",
    "\n",
    "    def __repr__(self):\n",
    "        degree = self.degree()\n",
    "        string = \"\"\n",
    "        for i, a in enumerate(self.coef):\n",
    "            string += f\"{a}x^{degree - i} + \"\n",
    "        return string[:-2] \n",
    "\n",
    "    def evaluate(self, x):\n",
    "        degree = self.degree()\n",
    "        value = 0\n",
    "        for i, a in enumerate(self.coef):\n",
    "            value += a * x**(degree - i)\n",
    "        return value\n",
    "\n",
    "# Instantiate instance of the Polynomial class\n",
    "p = Polynomial([2, 0, -3, 1])\n",
    "\n",
    "print(p)\n",
    "print(\"p(x) = 2x^3 - 3x + 1\")\n",
    "print(f\"p(x) = {p}\")\n",
    "print(f\"p(3) = {p.evaluate(3)}\")"
   ]
  },
  {
   "cell_type": "markdown",
   "id": "296051ea",
   "metadata": {},
   "source": [
    "- Replace string() by dunder methods _ call _ :\n",
    "\n",
    "    Pass a variable to a given class to be evaluated naturally."
   ]
  },
  {
   "cell_type": "code",
   "execution_count": 11,
   "id": "2edd3876",
   "metadata": {},
   "outputs": [
    {
     "name": "stdout",
     "output_type": "stream",
     "text": [
      "2x^3 + 0x^2 + -3x^1 + 1x^0 \n",
      "p(x) = 2x^3 - 3x + 1\n",
      "p(x) = 2x^3 + 0x^2 + -3x^1 + 1x^0 \n",
      "p(3) = 46\n"
     ]
    }
   ],
   "source": [
    "#Create custom Polynomial object\n",
    "class Polynomial(object):\n",
    "    # Call the __init__ function which initializes the attributes of the object \n",
    "    def __init__(self, coef):\n",
    "        self.coef = coef # Does not need to have the same name\n",
    "    # Define a degree method\n",
    "    def degree(self):\n",
    "        degree = len(self.coef) - 1 \n",
    "        return degree\n",
    "\n",
    "    def __repr__(self):\n",
    "        degree = self.degree()\n",
    "        string = \"\"\n",
    "        for i, a in enumerate(self.coef):\n",
    "            string += f\"{a}x^{degree - i} + \"\n",
    "        return string[:-2] \n",
    "\n",
    "    def __call__(self, x):\n",
    "        degree = self.degree()\n",
    "        value = 0\n",
    "        for i, a in enumerate(self.coef):\n",
    "            value += a * x**(degree - i)\n",
    "        return value\n",
    "\n",
    "# Instantiate instance of the Polynomial class\n",
    "p = Polynomial([2, 0, -3, 1])\n",
    "\n",
    "print(p)\n",
    "print(\"p(x) = 2x^3 - 3x + 1\")\n",
    "print(f\"p(x) = {p}\")\n",
    "print(f\"p(3) = {p(3)}\")"
   ]
  },
  {
   "cell_type": "code",
   "execution_count": 12,
   "id": "2d3bdf15",
   "metadata": {},
   "outputs": [
    {
     "data": {
      "text/plain": [
       "236"
      ]
     },
     "execution_count": 12,
     "metadata": {},
     "output_type": "execute_result"
    }
   ],
   "source": [
    "p(5)"
   ]
  }
 ],
 "metadata": {
  "kernelspec": {
   "display_name": "Python 3 (ipykernel)",
   "language": "python",
   "name": "python3"
  },
  "language_info": {
   "codemirror_mode": {
    "name": "ipython",
    "version": 3
   },
   "file_extension": ".py",
   "mimetype": "text/x-python",
   "name": "python",
   "nbconvert_exporter": "python",
   "pygments_lexer": "ipython3",
   "version": "3.9.13"
  }
 },
 "nbformat": 4,
 "nbformat_minor": 5
}
